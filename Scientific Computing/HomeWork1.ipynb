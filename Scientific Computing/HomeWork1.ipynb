{
 "cells": [
  {
   "cell_type": "markdown",
   "metadata": {},
   "source": [
    "# Problem 1"
   ]
  },
  {
   "cell_type": "markdown",
   "metadata": {},
   "source": [
    "Under assumptions of Amdahl's law, suppose that 60% of a program are perfectly parallelizable, and the rest is not parallelizable. What is the maximum speedup achievable by parallelization? What will be the efficiency of parallelization at 2-fold speedup?\n"
   ]
  },
  {
   "cell_type": "markdown",
   "metadata": {},
   "source": [
    "**Answer:**\n",
    "\n",
    "* Amdahl's law is $S_p = \\frac{1}{\\alpha + \\frac{1-\\alpha}{p}}$, where $\\alpha$ is coefficient that shows the amount of non parallelized part of program. The Maximum of speedup can be achieved when the number of processes $p$ is infinity. Thus, $\\tilde {S_p} = \\frac{1}{\\alpha}$, where $\\alpha = 0.4$. It gives us  $\\tilde {S_p} = 2.5$.\n",
    "\n",
    "* For 2-fold speedup ($S_p = 2$) we need express $p = \\frac{\\alpha -1}{\\alpha - \\frac{1}{S_p}} = \\frac{0.4 -1}{0.4 - 0.5}  = 6$. Thus, efficiency of parallelization is equal to $\\frac{2}{6} = \\frac{1}{3}$.\n"
   ]
  },
  {
   "cell_type": "markdown",
   "metadata": {},
   "source": [
    "# Problem 2"
   ]
  },
  {
   "cell_type": "markdown",
   "metadata": {},
   "source": [
    "Write a Python or C/C++ program that uses MPI reduce to find the largest file in terms of the number of lines among all .txt files in the working directory. The program must be callable in the form mpirun -np <N> python linecount.py (in the case of the Python version) or mpirun -np <N> linecount.exe (the C/C++ version), where <N> is the user-defined number of processes. The program is expected to first somehow distribute the files found in the current directory to the processes, then each process should count the lines in the files assigned to it, and finally the result should be MPI-reduced and printed out."
   ]
  },
  {
   "cell_type": "code",
   "execution_count": 1,
   "metadata": {},
   "outputs": [
    {
     "name": "stdout",
     "output_type": "stream",
     "text": [
      "('Max size : ', [34, '6.txt'])\n"
     ]
    }
   ],
   "source": [
    "import os\n",
    "from mpi4py import MPI\n",
    "import numpy as np\n",
    "\n",
    "comm = MPI.COMM_WORLD \n",
    "rank = comm.Get_rank() \n",
    "size = comm.Get_size()\n",
    "\n",
    "directory = 'files/'\n",
    "\n",
    "if rank == 0:\n",
    "    files = os.listdir(directory)[1:]\n",
    "    chunks = [files[i : len(files) : size] for i in range(size)]\n",
    "else:\n",
    "    chunks = None\n",
    "\n",
    "chunk = comm.scatter(chunks, root = 0)\n",
    "text_size = -1\n",
    "text_name = ''\n",
    "\n",
    "# Possible modifications:\n",
    "#  - If I have 2 files with the same length?\n",
    "#  - Do I need calculate as row If I have only '\\n' symbol?\n",
    "for unit in chunk:\n",
    "    i = 0\n",
    "    with open(directory + unit) as file:\n",
    "        for line in file:\n",
    "            i += 1\n",
    "    if i > text_size: \n",
    "        text_size = i\n",
    "        text_name = unit\n",
    "\n",
    "largestFile = comm.reduce([text_size, text_name], op = MPI.MAXLOC, root = 0)    \n",
    "\n",
    "if rank == 0:\n",
    "    print ('Max size : ', largestFile)"
   ]
  },
  {
   "cell_type": "markdown",
   "metadata": {},
   "source": [
    "# Problem 3"
   ]
  },
  {
   "cell_type": "markdown",
   "metadata": {},
   "source": [
    "Solve the Distinct Substrings problem at Sphere online judge: http://www.spoj.com/problems/DISUBSTR/. Provide code passing the test of the judge. Explain how your code works and theoretically estimate the complexity of the algorithm (as  $O(f(N)$), where  $f(N)$ is some function of the length of the input string)."
   ]
  },
  {
   "cell_type": "code",
   "execution_count": 2,
   "metadata": {},
   "outputs": [
    {
     "name": "stdout",
     "output_type": "stream",
     "text": [
      "2\n",
      "0\n"
     ]
    }
   ],
   "source": [
    "import numpy as np\n",
    "import sys\n",
    "\n",
    "def invPerm(p):\n",
    "    'Invert the permutation p'\n",
    "    s = np.empty(p.size, p.dtype)\n",
    "    s[p] = np.arange(p.size)\n",
    "    return s\n",
    "\n",
    "def getSA(A):\n",
    "    if not type(A) is np.ndarray:\n",
    "        A = np.array(list(A))\n",
    "    N = len(A) \n",
    "    M = int(np.ceil(np.log2(N)))+1   # number of iterations\n",
    "    P = np.zeros((M,N), dtype=int) \n",
    "    Q = np.zeros((M,N), dtype=int)     \n",
    "    R = np.zeros((M,3*N), dtype=int) \n",
    "\n",
    "    for k in range(M):\n",
    "        if k == 0:\n",
    "            P[0] = np.argsort(A)\n",
    "            Q[0][1:] = np.cumsum(A[P[0]][1:] != A[P[0]][:-1])\n",
    "            R[0][:N] = Q[0][invPerm(P[0])]\n",
    "        else:\n",
    "            offset = 2**(k-1)\n",
    "            r = np.lexsort((R[k-1, P[k-1]+offset], R[k-1, P[k-1]]))\n",
    "            P[k] = P[k-1][r]  \n",
    "            Q[k][1:] = np.cumsum(np.logical_or(R[k-1][P[k]][1:] != R[k-1][P[k]][:-1], \n",
    "                                          R[k-1][P[k]+offset][1:] != R[k-1][P[k]+offset][:-1]))\n",
    "            R[k][:N] = Q[k][invPerm(P[k])]\n",
    "\n",
    "            if Q[k][-1] == N-1: \n",
    "                break\n",
    "\n",
    "    SA = P[k]\n",
    "    return SA, P[:k+1], Q[:k+1], R[:k+1]  \n",
    "\n",
    "def getLCP(SA, R):\n",
    "    (M, N) = R.shape\n",
    "    LCP = np.zeros((len(SA)-1,),dtype=int)\n",
    "    for m in range(M-1)[::-1]:\n",
    "        t = (R[m][SA[1:]+LCP] == R[m][SA[:-1]+LCP]).astype(int)\n",
    "        LCP += (2**m)*t\n",
    "    return LCP\n",
    "\n",
    "\n",
    "def main():\n",
    "    number = int(raw_input())\n",
    "    data = []\n",
    "    for i in range(number):\n",
    "        data.append(sys.stdin.readline().upper().rstrip('\\n') + '$')\n",
    "\n",
    "    for i in range(number):\n",
    "        A = data[i]\n",
    "        SA, _, _, R = getSA(A)\n",
    "        LCP = getLCP(SA, R)\n",
    "\n",
    "    print((len(A) - 1 - SA).sum()- LCP.sum())\n",
    "\n",
    "if __name__ == '__main__':\n",
    "    main()  \n"
   ]
  },
  {
   "cell_type": "markdown",
   "metadata": {},
   "source": [
    "* getSA and getLCP was developed on seminars. For finding the number of Distinct Substrings I have calculated the following formula:\n",
    "$\\sum_{i=0}^{n} (n - 1 -SA[i])$ - $\\sum_{i=0}^{n-1} (LCP[i])$\n",
    "\n",
    "\n",
    "* Get Suffix Array - SA algorithm\n",
    "* Find the largest prefix of pairs in Suffix Array - LCP algorithm \n",
    "* Calculate number of the above formula\n",
    "\n",
    "Note: the first part means that all possible substrings that can be produced and the second part means repeats of previous string. In other words it means the difference between new string and previous.\n",
    "\n",
    "The complexity of the algorithm is O(Nlog^2N) as was shown on the seminar. \n"
   ]
  },
  {
   "cell_type": "markdown",
   "metadata": {},
   "source": [
    "# Problem 4"
   ]
  },
  {
   "cell_type": "markdown",
   "metadata": {},
   "source": [
    "Suppose that we want to distribute  $N$ personal projects to $N$ students. Assume that each student  $(k)^{N−1}_{k=0}$ has a list of his/her preferences for the projects, expressed as a vector  $r_k$\n",
    "  of integer ranks assigned to each project. Ranks vary between 0 and  N−1\n",
    "  without repetitions, the **lower** the rank the more **preferable** the project. (For example, the first student's ranks are  $r_0=[2,1,0]$\n",
    " , the second's  $r_1=[0,2,1]$\n",
    "  and the third  $r_2=[0,1,2]$). We want to distribute the projects so as to maximize the total preference, i.e., if  $n_k$\n",
    "  denotes the project assigned to the  $k$\n",
    " 'th student, we want to make  $f=\\sum^{N−1}_{k=0}r_k[n_k]$\n",
    "  as small as possible. (In the example above the optimal distribution is  $n_0=2$,$n_1=0$,$n_2=1$\n",
    " , which gives  $f=1$)\n",
    " \n",
    "* Come up with an algorithm optimizing the distribution and implement it in a Python or C/C++ program. The algorithm should accept the preference vectors and output a recommended distribution  $(n_k)^N_k=1$\n",
    " . The algorithm need not find the best solution, but is expected to generally produce better solutions than would have been obtained by randomly distributing the projects. The algorithm should be reasonably fast, say run in not more than a few seconds for  $N=30$\n",
    " \n",
    "* Compare experimentally your algorithm with the trivial algorithm producing a random distribution. To this end, perform  $M=1000$\n",
    "  experiments in each of which 1) random preference vectors for  $N=30$\n",
    "  students and projects are generated; 2) the objective function  $f$\n",
    "  is evaluated for both algorithms. After finishing all the experiments, plot the two respective distributions of the obtained  $M$\n",
    "  values of  $f$\n",
    "  and compute the mean values of  $f$\n",
    "  for both algorithms.\n"
   ]
  },
  {
   "cell_type": "code",
   "execution_count": 3,
   "metadata": {},
   "outputs": [
    {
     "name": "stdout",
     "output_type": "stream",
     "text": [
      "Random Generator:\n",
      "Improvements Heuristic algorithm in 7.6 times from Random\n",
      "Improvements Munkres algorithm in 19.0 times from Random\n",
      "\n",
      "Special Generator:\n",
      "Improvements Heuristic algorithm in 4.5 times from Random\n",
      "Improvements Munkres algorithm in 7.3 times from Random\n"
     ]
    },
    {
     "data": {
      "image/png": "[encoded data removed]",
      "text/plain": [
       "<matplotlib.figure.Figure at 0x112dad6d0>"
      ]
     },
     "metadata": {},
     "output_type": "display_data"
    },
    {
     "data": {
      "image/png": "[encoded data removed]",
      "text/plain": [
       "<matplotlib.figure.Figure at 0x112d86610>"
      ]
     },
     "metadata": {},
     "output_type": "display_data"
    }
   ],
   "source": [
    "import random\n",
    "import numpy as np\n",
    "import matplotlib.pyplot as plt\n",
    "from munkres import Munkres, print_matrix\n",
    "%matplotlib inline\n",
    "\n",
    "def testRandomGenerator(N):\n",
    "    table = []\n",
    "    for i in range(N):\n",
    "        table.append(random.sample(range(N), N))\n",
    "    return table\n",
    "\n",
    "def testGenerator_repeats(N, repeats=0.5):\n",
    "    uniqueN = int(N * (1 - repeats))\n",
    "    table = []\n",
    "    \n",
    "    sample = np.random.normal(0, 1, N)\n",
    "    distr_of_uniqueN = np.histogram(sample, bins = uniqueN)[0]\n",
    "    \n",
    "    for number in distr_of_uniqueN:\n",
    "        if number > 0:\n",
    "            s = random.sample(range(N), N)\n",
    "            for i in range(number):\n",
    "                table.append(s)\n",
    "                \n",
    "    return random.sample(table, N)\n",
    "\n",
    "def calcRandomly(N, A):\n",
    "    x = random.sample(range(N), N)        \n",
    "    y = random.sample(range(N), N)\n",
    "    sums = 0\n",
    "    for x_i, y_i in zip(x, y):\n",
    "        sums += A[x_i][y_i]\n",
    "\n",
    "    return sums\n",
    "\n",
    "def algorithm(N, A):\n",
    "    set_of_arrays = set([i for i in range(N)])\n",
    "    values = [-1 for i in range(N)]\n",
    "    j = 0\n",
    "\n",
    "    while len(set_of_arrays) > 0:\n",
    "        selectedArrays = []\n",
    "\n",
    "        for arr in list(set_of_arrays):\n",
    "            pos = A[arr].index(j) # find a position\n",
    "            if values[pos] == -1: # fill if it is free\n",
    "                values[pos] = j\n",
    "                selectedArrays.append(arr)\n",
    "\n",
    "        set_of_arrays -= set(selectedArrays)\n",
    "        j += 1\n",
    "    return np.sum(values)\n",
    "\n",
    "def Munk(A):\n",
    "    m = Munkres()\n",
    "    indexes = m.compute(A)\n",
    "    total = 0\n",
    "    for row, column in indexes:\n",
    "        value = A[row][column]\n",
    "        total += value\n",
    "\n",
    "    return total\n",
    "    \n",
    "\n",
    "data1 = [[], []]\n",
    "data2 = [[], []]\n",
    "data3 = [[], []]\n",
    "N = 30\n",
    "A = [[], []]\n",
    "for i in range(1000):\n",
    "    A[0] = testRandomGenerator(N)\n",
    "    A[1] = testGenerator_repeats(N, repeats=0.3)\n",
    "    \n",
    "    data1[0].append(algorithm(N, A[0]))\n",
    "    data2[0].append(calcRandomly(N, A[0]))\n",
    "    data3[0].append(Munk(A[0]))\n",
    "    \n",
    "    data1[1].append(algorithm(N, A[1]))\n",
    "    data2[1].append(calcRandomly(N, A[1]))\n",
    "    data3[1].append(Munk(A[1]))\n",
    "    \n",
    "mean1 = np.mean(data1, axis=1)\n",
    "mean2 = np.mean(data2, axis=1)\n",
    "mean3 = np.mean(data3, axis=1)\n",
    "    \n",
    "fig1 = plt.figure(figsize=(15,10))\n",
    "fig1.suptitle('Random Generator', fontsize=14, fontweight='bold')\n",
    "ax1 = fig1.add_subplot(331)\n",
    "plt.title('Heuristic algorithm')\n",
    "n, _, _ = ax1.hist(data1[0], bins=22)\n",
    "plt.plot([mean1[0]]*200, np.linspace(0, n.max(), 200))\n",
    "ax1.set_xlabel('Objective function f')\n",
    "ax1.set_ylabel('Frequency')\n",
    "\n",
    "ax2 = fig1.add_subplot(332)\n",
    "plt.title('Random')\n",
    "n, _, _ = ax2.hist(data2[0], bins=22)\n",
    "plt.plot([mean2[0]]*200, np.linspace(0,n.max(), 200))\n",
    "ax2.set_xlabel('Objective function f')\n",
    "ax2.set_ylabel('Frequency')\n",
    "\n",
    "ax3 = fig1.add_subplot(333, label='r')\n",
    "plt.title('Munkres')\n",
    "n, _, _ = ax3.hist(data3[0], bins=22)\n",
    "plt.plot([mean3[0]]*200, np.linspace(0,n.max(), 200))\n",
    "ax3.set_xlabel('Objective function f')\n",
    "ax3.set_ylabel('Frequency')\n",
    "\n",
    "print 'Random Generator:'\n",
    "print 'Improvements Heuristic algorithm in', round(np.mean(data2[0]) / np.mean(data1[0]),1), 'times from Random'\n",
    "print 'Improvements Munkres algorithm in', round(np.mean(data2[0]) / np.mean(data3[0]),1), 'times from Random'\n",
    "\n",
    "fig2 = plt.figure(figsize=(15,10))\n",
    "fig2.suptitle('Special Generator', fontsize=14, fontweight='bold')\n",
    "ax1 = fig2.add_subplot(331)\n",
    "plt.title('Heuristic algorithm')\n",
    "n, _, _ = ax1.hist(data1[1], bins=22)\n",
    "plt.plot([mean1[1]]*200, np.linspace(0, n.max(), 200))\n",
    "ax1.set_xlabel('Objective function f')\n",
    "ax1.set_ylabel('Frequency')\n",
    "\n",
    "ax2 = fig2.add_subplot(332)\n",
    "plt.title('Random')\n",
    "n, _, _ = ax2.hist(data2[1], bins=22)\n",
    "plt.plot([mean2[1]]*200, np.linspace(0,n.max(), 200))\n",
    "ax2.set_xlabel('Objective function f')\n",
    "ax2.set_ylabel('Frequency')\n",
    "\n",
    "ax3 = fig2.add_subplot(333, label='r')\n",
    "plt.title('Munkres')\n",
    "n, _, _ = ax3.hist(data3[1], bins=22)\n",
    "plt.plot([mean3[1]]*200, np.linspace(0,n.max(), 200))\n",
    "ax3.set_xlabel('Objective function f')\n",
    "ax3.set_ylabel('Frequency')\n",
    "\n",
    "print '\\nSpecial Generator:'\n",
    "print 'Improvements Heuristic algorithm in', round(np.mean(data2[1]) / np.mean(data1[1]),1), 'times from Random'\n",
    "print 'Improvements Munkres algorithm in', round(np.mean(data2[1]) / np.mean(data3[1]),1), 'times from Random'"
   ]
  },
  {
   "cell_type": "markdown",
   "metadata": {},
   "source": [
    "What is here?:\n",
    "* Seveloped simple heuristic algorithm that approximately calculate the minimum of the objective function. \n",
    "* Showed the difference with Munkres algorithm (or Hungarian algorithm)\n",
    "* Developed the special Generator\n",
    "\n",
    "My heuristic algorithm:\n",
    "1. I find all zeros in recommendations\n",
    "2. If I have a collision in columns, then I choose only one number. Thus it gives partly-filled array.\n",
    "3. I find all ones in reccommendations among the rest columns\n",
    "4. If I have a collision in columns, then I choose only one number. Thus it gives almost filled array.\n",
    "5. I continue this process untill I fill all gaps\n",
    "\n",
    "Obviously, It takes $O(N^3)$, because I need to find $N$ values in $N^2$ table no more than N times"
   ]
  },
  {
   "cell_type": "markdown",
   "metadata": {},
   "source": [
    "# Problem 5"
   ]
  },
  {
   "cell_type": "markdown",
   "metadata": {},
   "source": [
    "Suppose that we have developed an algorithm that is supposed to generate independent (quasi-)random numbers uniformly distributed in the interval  $[0,1]$\n",
    " . To test our algorithm, we perform a series of experiments. In each experiment, we generate  N=103\n",
    "  numbers  $(x_n)^N_{n=1}$\n",
    "  with our algorithm, and compute the minimum distance  $r=\\min_{1\\leq n < m \\leq N}|x_n−x_m|$\n",
    "  between them. We observe that in more than 90% of such experiments we obtain  $r<10^{−5}$\n",
    " . Does this observation contradict the hypothesis of generating independent uniformly distributed random numbers? Explain your answer."
   ]
  },
  {
   "cell_type": "code",
   "execution_count": 4,
   "metadata": {},
   "outputs": [
    {
     "data": {
      "image/png": "[encoded data removed]",
      "text/plain": [
       "<matplotlib.figure.Figure at 0x11b5e0d10>"
      ]
     },
     "metadata": {},
     "output_type": "display_data"
    }
   ],
   "source": [
    "import random\n",
    "import numpy as np\n",
    "import matplotlib.pyplot as plt\n",
    "%matplotlib inline\n",
    "\n",
    "\n",
    "def generator(size = 100, length=1000):\n",
    "    for i in range(size):\n",
    "        yield np.random.uniform(size=length)\n",
    "\n",
    "def getMin(values):\n",
    "    values.sort()\n",
    "    rmin = 1e8\n",
    "    for ind, num in enumerate(values[1:]):\n",
    "        if num - values[ind] < rmin:\n",
    "            rmin = num - values[ind]\n",
    "\n",
    "    return rmin\n",
    "\n",
    "def get90percentValue(n, bins, size):\n",
    "    summ = 0\n",
    "    for i, val in enumerate(n):\n",
    "        if 0.9 * size < summ:\n",
    "            break\n",
    "        else:\n",
    "            summ += val\n",
    "    return bins[i]\n",
    "    \n",
    "size = 1000\n",
    "results = []\n",
    "for values in generator(size):\n",
    "    val = getMin(values)\n",
    "    results.append(val)\n",
    "\n",
    "plt.figure(figsize=(12,6))\n",
    "n, bins, _ = plt.hist(results, bins=100)\n",
    "plt.plot([1e-5]*2000, np.linspace(0,n.max(), 2000), label = '10^-5 level')\n",
    "plt.plot([get90percentValue(n, bins, size)]*2000, np.linspace(0,n.max(), 2000), label = '90% level')\n",
    "plt.xlabel('the value of r = min |x_i - x_j|')\n",
    "plt.ylabel('Frequency')\n",
    "plt.legend(bbox_to_anchor=(0.8, 0.95), prop={'size': 14})\n",
    "plt.show()"
   ]
  },
  {
   "cell_type": "markdown",
   "metadata": {},
   "source": [
    "In this experiment I showed what results of uniform distribution. The orange line is our requirement. The Green line - is 90% level. We see that green line is left than orange line, thus our requirement is satisfied.\n",
    "\n",
    "BUT! At the same time we **can't say** that all samples with this requirement (r < 1e-5) are uniform. Below I will show the distribution, that always satisfy this requirement, but the tests for continuous distributions is **never accepted** (i.e. the distribution is not uniform)!"
   ]
  },
  {
   "cell_type": "markdown",
   "metadata": {},
   "source": [
    "**Kolmogorov-Smirnov test:** $H_0$ is rejecting $\\Leftrightarrow D_n \\geq t_\\alpha, \\; P(D_n \\geq t_\\alpha | H_0) = \\alpha$, where $D_n = \\sup_x |\\hat{F_n}(x) - F(x)|$\n",
    "\n",
    "Here we suppose that Significance level is 10%. Thus quantile on 1-a level is 1.22"
   ]
  },
  {
   "cell_type": "code",
   "execution_count": 5,
   "metadata": {},
   "outputs": [
    {
     "name": "stdout",
     "output_type": "stream",
     "text": [
      "In all experiments the min distance is achieved - r < 1e-5:  1.0\n",
      "At the same time the Kolmogorov-Smirnov test is rejected for all experiments: 0.0\n",
      "Although it works for uniform distribution:  1 - accepted\n"
     ]
    }
   ],
   "source": [
    "def getSample(N = 1000):\n",
    "    sample = np.array([np.random.randn() for i in range(N)])\n",
    "    sample = (sample - sample.min()) / (sample.max() - sample.min())\n",
    "    return sample\n",
    "\n",
    "def checkKolmogorov(sample):\n",
    "    sample.sort()\n",
    "    Fn = [1.0 * i / len(sample) for i in range(len(sample))]\n",
    "    value = np.abs(Fn - sample).max() * np.sqrt(len(sample))\n",
    "    \n",
    "    # alpha = 10% - Significance level\n",
    "    if value < 1.22:\n",
    "        return 1\n",
    "    \n",
    "    return 0\n",
    "\n",
    "success = 0\n",
    "size = 100\n",
    "results = []\n",
    "for ex in range(size):\n",
    "    sample = getSample()\n",
    "    results.append(checkKolmogorov(sample))\n",
    "    sample.sort()\n",
    "    num = 0\n",
    "    for i, value in enumerate(sample[1:]):\n",
    "        if value - sample[i] < 1e-5:\n",
    "            num += 1\n",
    "    if num > 0:\n",
    "        success += 1\n",
    "        \n",
    "print 'In all experiments the min distance is achieved - r < 1e-5: ', success * 1.0 / size\n",
    "print 'At the same time the Kolmogorov-Smirnov test is rejected for all experiments:', np.mean(results)\n",
    "print 'Although it works for uniform distribution: ', checkKolmogorov(np.random.uniform(size=1000)), '- accepted'\n",
    "    "
   ]
  },
  {
   "cell_type": "markdown",
   "metadata": {},
   "source": [
    "It means that the distribution is not uniform, but requerements is achieved! "
   ]
  }
 ],
 "metadata": {
  "kernelspec": {
   "display_name": "Python 3",
   "language": "python",
   "name": "python3"
  },
  "language_info": {
   "codemirror_mode": {
    "name": "ipython",
    "version": 3
   },
   "file_extension": ".py",
   "mimetype": "text/x-python",
   "name": "python",
   "nbconvert_exporter": "python",
   "pygments_lexer": "ipython3",
   "version": "3.5.4"
  }
 },
 "nbformat": 4,
 "nbformat_minor": 2
}
