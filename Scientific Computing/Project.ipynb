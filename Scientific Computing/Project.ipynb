{
 "cells": [
  {
   "cell_type": "markdown",
   "metadata": {
    "slideshow": {
     "slide_type": "slide"
    }
   },
   "source": [
    "# Burgers' equation\n",
    "\n",
    "Burgers equation was proposed as a model of turbulent fluid motion by J. M. Burgers in a series of several articles. \n",
    "\n",
    "$$u_t + u u_x = \\varepsilon u_{xx}$$\n",
    "\n",
    "The Burgers’ equation is the simplest nonlinear hyperbolic equation\n",
    "\n",
    "\n",
    "## Short definition\n",
    "The parameter $\\varepsilon \\geq 0$ is typically referred to as the viscosity, due to the connection between this equation and the study of fluid dynamics. When ν > 0, it is often referred to as the viscous Burgers equation, and when ν = 0 it is often referred to as the inviscid Burgers equation. "
   ]
  },
  {
   "cell_type": "markdown",
   "metadata": {
    "slideshow": {
     "slide_type": "slide"
    }
   },
   "source": [
    "### Motivating application\n",
    "\n",
    "The Burgers’ equation is one of a few nonlinear equations which can be solved exactly for an arbitrary initial and boundary conditions. However these **exact solutions are impractical for the small values** of viscosity constant due to a slow convergence of series solutions. Thus many numerical schemes are constructed for a numerical solution of the Burgers’ equation **for small values of viscosity constant** which corresponds to a steep front in the propagation of dynamic\n",
    "\n",
    "* It is important in a variety of applications, perhaps most notably as **a simplification of the Navier-Stokes equation**, which models fluid dynamics. \n",
    "\n",
    "* In addition, is used as **a prototypical PDE** to develop many of the fundamental tools used to analyze general classes of PDEs. For example, when $\\varepsilon = 0$ Burgers equation is one of the simplest nonlinear conservation laws, and when $\\varepsilon > 0$ it is one of the simplest nonlinear dissipative PDEs, due to the resulting decay of energy. \n",
    "\n",
    "* With the addition of stochastic forcing, it has played an important role in **the theoretical development of stochastic PDEs**.\n",
    "\n",
    "* Furthermore, the diffusion wave and viscous rarefaction wave can be used **to characterize the large-time behavior of more general scalar viscous conservation laws**. This is related to the fact that the term $u_{xx}$ is critical, in the sense that it lies on the boundary between nonlinear terms that cause blow-up and those whose effect can be absorbed by the diffusive decay induced by the term $u_{xx}$\n",
    "\n"
   ]
  },
  {
   "cell_type": "markdown",
   "metadata": {
    "slideshow": {
     "slide_type": "slide"
    }
   },
   "source": [
    "### Gradient Catastrophe / Shock formation\n",
    "\n",
    "![Gradient Catastrophe](img/picture.png)\n",
    "\n",
    "\n",
    "This equation may not have a unique solution! This happens when the **characteristics cross**, as will eventually happen if $u_x(x, 0)$ is negative at any point. At the time $T_b$ where the characteristics first cross, the function $u(x,t)$ has an infinite slope - the wave breaks and a shock forms. \n"
   ]
  },
  {
   "cell_type": "markdown",
   "metadata": {
    "slideshow": {
     "slide_type": "slide"
    }
   },
   "source": [
    "![Characteristics](img/picture2.png)\n",
    "\n",
    "Of course, the density of a gas cannot possibly be triple valued at a point. We can determine the correct physical behavior by adopting the vanishing **viscosity approach**.\n",
    "\n",
    "Indeed, as the wave begins to break, the second derivative term $u_{xx}$ grows much faster than $u_x$, and at some point the $\\varepsilon u_{xx}$ term is comparable to the other terms and begins to play a role. This term keeps the solution smooth for all time, preventing breakdown of solutions that occurs for the hyperbolic problem. As $\\varepsilon \\rightarrow 0$ this zone becomes sharper and approaches the discontinuous solution known a shock. \n",
    "\n",
    "$$u_t + u u_x = \\varepsilon u_{xx}$$\n",
    "\n"
   ]
  },
  {
   "cell_type": "markdown",
   "metadata": {
    "slideshow": {
     "slide_type": "slide"
    }
   },
   "source": [
    "### Different schemes\n",
    "* Inviscid case: Lax-Friedrichs method\n",
    "$$U_j^{n+1} = \\frac{U_{j-1}^{n} + U_{j+1}^{n}}{2} - \\frac{\\tau}{4h} \\left[\\left(U_{j+1}^n\\right)^2 - \\left(U_{j-1}^n\\right)^2\\right]$$\n",
    "\n",
    "* Viscid case:\n",
    "$$U_j^{n+1} = U_{j}^{n}- \\frac{\\tau}{4h} \\left[ \\left(U_{j+1}^n\\right)^2 - \\left(U_{j-1}^n\\right)^2\\right] + \\frac{\\varepsilon \\tau}{h^2} \\left[\\left(U_{j+1}^n\\right)^2 -2\\left(U_{j}^n\\right)^2 + \\left(U_{j-1}^n\\right)^2\\right]$$\n",
    "\n"
   ]
  },
  {
   "cell_type": "code",
   "execution_count": 1,
   "metadata": {
    "slideshow": {
     "slide_type": "slide"
    }
   },
   "outputs": [],
   "source": [
    "from math import sin, cos, exp\n",
    "import numpy as np\n",
    "import matplotlib.pyplot as plt\n",
    "%matplotlib inline\n",
    "from matplotlib import cm\n",
    "from matplotlib.ticker import LinearLocator, FormatStrFormatter\n",
    "from mpl_toolkits.mplot3d import axes3d, Axes3D\n",
    "import matplotlib.animation as animation\n",
    "\n",
    "class Burgers():\n",
    "    def __init__(self, nx, T, nt, u0, eps = 0.1):\n",
    "        self._nx = nx\n",
    "        self._T = T\n",
    "        self._nt = nt\n",
    "        self._u0 = u0\n",
    "        self._eps = eps\n",
    "        \n",
    "        self._h = h = np.array(1. / nx)\n",
    "        self._ht = ht = np.array(T / nt)\n",
    "        \n",
    "        self._xs = xs = np.linspace(0., 1., nx)\n",
    "        self._ts = ts = np.linspace(0., T, nt)\n",
    "        \n",
    "        self._U = np.zeros((nt, nx))\n",
    "        self._U[0] = u0(ts)\n",
    "        #self._U[:,0] = np.ones_like(xs)\n",
    "        self._U_plot = np.zeros((nt, nx))\n",
    "    \n",
    "    def step_1method(self, n):\n",
    "        value =  self._U[n-1, 2:] ** 2\n",
    "        value -= self._U[n-1, 0:-2] ** 2\n",
    "        value *= - 0.25 * self._ht / self._h\n",
    "        value += 0.5 * (self._U[n-1, 2:] + self._U[n-1, 0:-2])\n",
    "        return value\n",
    "        \n",
    "    def inviscid_1method(self):\n",
    "        for n in range(1, self._nt):\n",
    "            self._U[n, 1:-1] = self.step_1method(n)\n",
    "            \n",
    "        self._U_plot = self._U[:, 1:-1]\n",
    "        return self._U_plot\n",
    "    \n",
    "    def step_2method(self, n):\n",
    "        dx =  self._U[n-1, 2: ] ** 2\n",
    "        dx -= self._U[n-1, 0:-2] ** 2\n",
    "        dx *= - 0.25 * self._ht / self._h * self._U[n-1, 1:-1]\n",
    "        d2x2 = self._U[n-1, 2:] - 2 * self._U[n-1, 1:-1] + self._U[n-1, :-2]\n",
    "        d2x2 *=  self._eps * self._ht / (self._h ** 2)\n",
    "        value = self._U[n-1, 1:-1] + dx + d2x2    \n",
    "        return value\n",
    "    \n",
    "    def viscid_1method(self):\n",
    "        for n in range(1, self._nt):\n",
    "            self._U[n, 1:-1] = self.step_2method(n)\n",
    "            \n",
    "        self._U_plot = self._U[:, 1:-1]\n",
    "        return self._U_plot\n",
    "    \n",
    "    def save_anim(self, fname, skip = 1):\n",
    "        fig, ax = plt.subplots()\n",
    "        line, = ax.plot(self._xs[1:-1], self._U_plot[0])\n",
    "        \n",
    "        def animate(i):\n",
    "            line.set_ydata(self._U_plot[i])  \n",
    "            return line,\n",
    "\n",
    "        def init():\n",
    "            ax.set_xlim(0, self._T)\n",
    "            ax.set_ylim(np.min(self._U_plot), np.max(self._U_plot))\n",
    "            return line,\n",
    "\n",
    "        ani = animation.FuncAnimation(fig, animate, np.arange(1, self._nt,  skip), init_func=init,\n",
    "                                      interval=25, blit=True)\n",
    "        ani.save(fname, dpi=80, writer='imagemagick')\n",
    "        \n",
    "nx = 400\n",
    "nt = 400\n",
    "T = 1.1\n",
    "eps = 0.001\n",
    "def u0(x):\n",
    "    n = len(x)\n",
    "    return [1 for i in range( n // 2)] + [0 for i in range( n // 2 + n % 2)]\n",
    "\n",
    "# def u0(x):\n",
    "#     return np.sin(2 * np.pi *x)\n",
    "\n",
    "# def u0(x):\n",
    "#     return np.exp( - 5 * (x - 0.5) ** 2)\n",
    "\n",
    "\n",
    "eq = Burgers(nx, T, nt, u0, eps = eps)\n",
    "        \n",
    "eq.viscid_1method();\n",
    "#eq.inviscid_1method()\n",
    "#eq.save_anim(\"vis-exp2.gif\", skip = 3)"
   ]
  },
  {
   "cell_type": "markdown",
   "metadata": {
    "slideshow": {
     "slide_type": "slide"
    }
   },
   "source": [
    "# sin(2 pi x)\n",
    "![1](img/invis-sin2.gif)\n",
    "![1](img/vis-sin2.gif)"
   ]
  },
  {
   "cell_type": "markdown",
   "metadata": {
    "slideshow": {
     "slide_type": "slide"
    }
   },
   "source": [
    "# exp(-(x-a)^2)\n",
    "![1](img/invis-exp2.gif)\n",
    "![1](img/vis-exp2.gif)"
   ]
  },
  {
   "cell_type": "markdown",
   "metadata": {
    "slideshow": {
     "slide_type": "slide"
    }
   },
   "source": [
    "# x < 0.5: 1, else 0\n",
    "![1](img/invis-line1.gif)\n",
    "![1](img/vis-line1.gif)"
   ]
  },
  {
   "cell_type": "markdown",
   "metadata": {
    "slideshow": {
     "slide_type": "slide"
    }
   },
   "source": [
    "# x < 0.5: 0, else 1\n",
    "![1](img/invis-line2.gif)\n",
    "![1](img/vis-line2.gif)"
   ]
  },
  {
   "cell_type": "code",
   "execution_count": 2,
   "metadata": {
    "scrolled": true,
    "slideshow": {
     "slide_type": "skip"
    }
   },
   "outputs": [
    {
     "name": "stderr",
     "output_type": "stream",
     "text": [
      "/Users/rasulkh/miniconda3/lib/python3.5/site-packages/scipy/integrate/quadpack.py:364: IntegrationWarning: The occurrence of roundoff error is detected, which prevents \n",
      "  the requested tolerance from being achieved.  The error may be \n",
      "  underestimated.\n",
      "  warnings.warn(msg, IntegrationWarning)\n",
      "/Users/rasulkh/miniconda3/lib/python3.5/site-packages/scipy/integrate/quadpack.py:364: IntegrationWarning: The integral is probably divergent, or slowly convergent.\n",
      "  warnings.warn(msg, IntegrationWarning)\n"
     ]
    },
    {
     "data": {
      "text/plain": [
       "<matplotlib.figure.Figure at 0x10298ec50>"
      ]
     },
     "metadata": {},
     "output_type": "display_data"
    },
    {
     "data": {
      "image/png": "[encoded data removed]",
      "text/plain": [
       "<matplotlib.figure.Figure at 0x103ff6240>"
      ]
     },
     "metadata": {},
     "output_type": "display_data"
    }
   ],
   "source": [
    "import scipy.integrate as integrate\n",
    "\n",
    "eps = 0.001\n",
    "\n",
    "def h(y):\n",
    "    return -np.cos(2 * np.pi * y) / (2 * np.pi)\n",
    "\n",
    "def K(x, y, t):\n",
    "    return (x - y) ** 2 / (2 * t) + h(y)\n",
    "\n",
    "def exp(x, y, t):\n",
    "    return np.exp(- K(x, y, t) / (2 * eps))\n",
    "\n",
    "def first_f(x, y, t):\n",
    "    return (x - y) * exp(x, y, t) / t\n",
    "\n",
    "def second_int(x, t):\n",
    "    return integrate.quad(exp, -np.inf, np.inf, args = (x, t), limit=500)[0]\n",
    "\n",
    "def first_int(x, t):\n",
    "    return integrate.quad(first_f, -np.inf, np.inf, args = (x, t), limit=500)[0]\n",
    "    \n",
    "def u(x, t):\n",
    "    int1 = first_int(x, t)\n",
    "    int2 = second_int(x, t)\n",
    "    if int2 != 0.: \n",
    "        return int1 / int2, int1, int2\n",
    "    else:\n",
    "        print('STOOOOOOP')\n",
    "        return -1, int1, int2\n",
    "    \n",
    "x = np.linspace(1e-3, 1, 40)\n",
    "nt = 20\n",
    "U = [[] for i in range(nt)]\n",
    "plt.figure(figsize=(15,10))\n",
    "\n",
    "for step_t in range(1, nt + 1):\n",
    "    for it in x:\n",
    "        value, int1, int2 = u(it, step_t / nt)\n",
    "        U[step_t - 1].append(value)\n",
    "\n",
    "    #plt.plot(x, data)\n",
    "\n",
    "fig, ax = plt.subplots()\n",
    "line, = ax.plot(x, U[0])\n",
    "\n",
    "def animate(i):\n",
    "    line.set_ydata(U[i])  \n",
    "    return line,\n",
    "\n",
    "def init():\n",
    "    ax.set_xlim(0, 1)\n",
    "    ax.set_ylim(np.min(U), np.max(U))\n",
    "    return line,\n",
    "\n",
    "ani = animation.FuncAnimation(fig, animate, np.arange(1, nt), init_func=init,\n",
    "                              interval=25, blit=True)\n",
    "\n",
    "ani.save('name.gif', dpi=80, writer='imagemagick')"
   ]
  }
 ],
 "metadata": {
  "celltoolbar": "Slideshow",
  "kernelspec": {
   "display_name": "Python 3",
   "language": "python",
   "name": "python3"
  },
  "language_info": {
   "codemirror_mode": {
    "name": "ipython",
    "version": 3
   },
   "file_extension": ".py",
   "mimetype": "text/x-python",
   "name": "python",
   "nbconvert_exporter": "python",
   "pygments_lexer": "ipython3",
   "version": "3.5.4"
  }
 },
 "nbformat": 4,
 "nbformat_minor": 2
}
